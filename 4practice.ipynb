{
 "cells": [
  {
   "cell_type": "code",
   "execution_count": null,
   "metadata": {},
   "outputs": [],
   "source": [
    "#1\n",
    "x = \"She said: I'm from London!\"\n",
    "print(x)"
   ]
  },
  {
   "cell_type": "code",
   "execution_count": 2,
   "metadata": {},
   "outputs": [
    {
     "name": "stdout",
     "output_type": "stream",
     "text": [
      "56\n"
     ]
    }
   ],
   "source": [
    "#2\n",
    "line = input()+input()\n",
    "print(line)"
   ]
  },
  {
   "cell_type": "code",
   "execution_count": 3,
   "metadata": {},
   "outputs": [
    {
     "name": "stdout",
     "output_type": "stream",
     "text": [
      "9\n",
      "5\n"
     ]
    }
   ],
   "source": [
    "#3\n",
    "a, b = input(), input()\n",
    "print(b)\n",
    "print(a)"
   ]
  },
  {
   "cell_type": "code",
   "execution_count": 4,
   "metadata": {},
   "outputs": [
    {
     "name": "stdout",
     "output_type": "stream",
     "text": [
      "Добро пожаловать, 456! Ваша почта 456@py.ru внесена в нашу базу\n"
     ]
    }
   ],
   "source": [
    "#4\n",
    "name = input()\n",
    "print(f\"Добро пожаловать, {name}! Ваша почта {name}@py.ru внесена в нашу базу\")"
   ]
  },
  {
   "cell_type": "code",
   "execution_count": 7,
   "metadata": {},
   "outputs": [
    {
     "name": "stdout",
     "output_type": "stream",
     "text": [
      "Существует портрет Жанны \n",
      "д'Арк, написанный в XIX \\ XX вв. До сих \tпор образ этой 'святой ведьмы' используют в книгах и фильмах.\n",
      "Существует портрет Жанны д'Арк, написанный в XIX \\ XX вв. До сих пор образ этой 'святой ведьмы' используют в книгах и фильмах.\n"
     ]
    }
   ],
   "source": [
    "#5\n",
    "print(\"Существует портрет Жанны \\nд'Арк, написанный в XIX \\ XX вв. До сих \\tпор образ этой 'святой ведьмы' используют в книгах и фильмах.\")\n",
    "print(\"Существует портрет Жанны д'Арк, написанный в XIX \\ XX вв. До сих пор образ этой 'святой ведьмы' используют в книгах и фильмах.\")"
   ]
  },
  {
   "cell_type": "code",
   "execution_count": 8,
   "metadata": {},
   "outputs": [
    {
     "name": "stdout",
     "output_type": "stream",
     "text": [
      "789\n",
      "456\n",
      "123\n"
     ]
    }
   ],
   "source": [
    "#6\n",
    "first_line, second_line, third_line = input(), input(), input()\n",
    "new_line = first_line + \"\\n\" + second_line + \"\\n\" + third_line\n",
    "print(new_line)"
   ]
  },
  {
   "cell_type": "code",
   "execution_count": 9,
   "metadata": {},
   "outputs": [
    {
     "name": "stdout",
     "output_type": "stream",
     "text": [
      "9\n"
     ]
    }
   ],
   "source": [
    "#7\n",
    "print(len(input()))"
   ]
  },
  {
   "cell_type": "code",
   "execution_count": 11,
   "metadata": {},
   "outputs": [
    {
     "name": "stdout",
     "output_type": "stream",
     "text": [
      "1\n"
     ]
    }
   ],
   "source": [
    "#8\n",
    "line = input(\"Введите строку: \")\n",
    "n = int(input(\"Введите неотрицательное целое число n: \"))\n",
    "print(line[n])"
   ]
  },
  {
   "cell_type": "code",
   "execution_count": 13,
   "metadata": {},
   "outputs": [
    {
     "name": "stdout",
     "output_type": "stream",
     "text": [
      "2345\n"
     ]
    }
   ],
   "source": [
    "#9\n",
    "line = input(\"Введите строку: \")\n",
    "S = int(input(\"Введите начальный индекс S: \"))\n",
    "E = int(input(\"Введите конечный индекс E: \"))\n",
    "\n",
    "substring = line[S:E+1]\n",
    "if substring:\n",
    "    print(substring)\n",
    "else:\n",
    "    print(\"Ничего не найдено\")"
   ]
  },
  {
   "cell_type": "code",
   "execution_count": 16,
   "metadata": {},
   "outputs": [
    {
     "name": "stdout",
     "output_type": "stream",
     "text": [
      "14\n"
     ]
    }
   ],
   "source": [
    "#10\n",
    "line = input()\n",
    "S = int(input())\n",
    "E = int(input())\n",
    "ST = int(input())\n",
    "output = line[S:E:ST]\n",
    "if len(output) == 0:\n",
    "    print(\"Ничего не найдено\")\n",
    "else:\n",
    "    print(output)"
   ]
  },
  {
   "cell_type": "code",
   "execution_count": 18,
   "metadata": {},
   "outputs": [
    {
     "name": "stdout",
     "output_type": "stream",
     "text": [
      "321\n"
     ]
    }
   ],
   "source": [
    "#11\n",
    "print(input()[::-1])"
   ]
  },
  {
   "cell_type": "code",
   "execution_count": null,
   "metadata": {},
   "outputs": [],
   "source": [
    "#12\n",
    "name = input(\"Введите ваше имя: \")\n",
    "template = \"Привет, {}!\"\n",
    "print(template.format(name))"
   ]
  },
  {
   "cell_type": "code",
   "execution_count": 19,
   "metadata": {},
   "outputs": [
    {
     "name": "stdout",
     "output_type": "stream",
     "text": [
      "Уважаемый 1,\n",
      "Банк 2 приглашает вас в отделение банка №3 для получения вашей карты.\n",
      "4\n"
     ]
    }
   ],
   "source": [
    "#13\n",
    "template = \"\"\"Уважаемый {customer},\n",
    "Банк {bank} приглашает вас в отделение банка №{department_num} для получения вашей карты.\n",
    "{dt}\"\"\" # замените ... на ваш код\n",
    "\n",
    "# ваш код здесь\n",
    "print(template.format(customer=input(\"Ваше имя\"), bank=input(\"Ваш банк\"), department_num=input(\"Отеление банка\"), dt=input(\"дата\"))) # замените ... на ваш код"
   ]
  },
  {
   "cell_type": "code",
   "execution_count": 33,
   "metadata": {},
   "outputs": [
    {
     "name": "stdout",
     "output_type": "stream",
     "text": [
      "10.0\n",
      "1 составляет 10.0% от 10\n"
     ]
    }
   ],
   "source": [
    "#14\n",
    "total = int(input())\n",
    "salary = int(input())\n",
    "part = salary*100/total\n",
    "print(part)\n",
    "template = \"{} составляет {}% от {}\".format(salary, part, total)\n",
    "print(template)"
   ]
  },
  {
   "cell_type": "code",
   "execution_count": 34,
   "metadata": {},
   "outputs": [
    {
     "name": "stdout",
     "output_type": "stream",
     "text": [
      "x = 67, y = 302\n"
     ]
    }
   ],
   "source": [
    "#15\n",
    "#  Формулы движения:\n",
    "def x(t):\n",
    "    return 5*t + 17\n",
    "def y(t):\n",
    "    return 3*t*t + 2\n",
    "\n",
    "t = int(input())\n",
    "\n",
    "print(f\"x = {x(t)}, y = {y(t)}\")\n",
    "\n",
    "# ваш код здесь"
   ]
  },
  {
   "cell_type": "code",
   "execution_count": 37,
   "metadata": {},
   "outputs": [
    {
     "name": "stdout",
     "output_type": "stream",
     "text": [
      "title\n"
     ]
    }
   ],
   "source": [
    "#16\n",
    "line = input(\"Введите строку: \")\n",
    "\n",
    "if line.islower():\n",
    "    print('lower')\n",
    "elif line.isupper():\n",
    "    print('upper')\n",
    "elif line.istitle():\n",
    "    print('title')\n",
    "else:\n",
    "    print('unusual string')\n"
   ]
  },
  {
   "cell_type": "code",
   "execution_count": 41,
   "metadata": {},
   "outputs": [
    {
     "name": "stdout",
     "output_type": "stream",
     "text": [
      "BAD\n"
     ]
    }
   ],
   "source": [
    "#17\n",
    "line = input().lower()\n",
    "if \"саш\" in line:\n",
    "    print(\"GOOD\")\n",
    "else:\n",
    "    print(\"BAD\")"
   ]
  },
  {
   "cell_type": "code",
   "execution_count": 42,
   "metadata": {},
   "outputs": [
    {
     "name": "stdout",
     "output_type": "stream",
     "text": [
      "<class 'list'>\n",
      "3\n"
     ]
    }
   ],
   "source": [
    "#18\n",
    "txt = input(\"Введите текст: \")\n",
    "sentences = txt.split('.')\n",
    "print(type(sentences))\n",
    "# Убираем пустые строки, если они есть\n",
    "count = sum(1 for sentence in sentences if sentence.strip())\n",
    "print(count)"
   ]
  },
  {
   "cell_type": "code",
   "execution_count": null,
   "metadata": {},
   "outputs": [],
   "source": [
    "#19\n",
    "captcha_input = input(\"Введите капчу: \")\n",
    "\n",
    "if ',' in captcha_input[:10]:\n",
    "    print(\"ROBOT\")\n",
    "else:\n",
    "    print(\"HUMAN\")"
   ]
  },
  {
   "cell_type": "code",
   "execution_count": null,
   "metadata": {},
   "outputs": [],
   "source": [
    "#20\n",
    "user_input = input(\"Введите подтверждение: \").strip()\n",
    "\n",
    "if user_input.lower() in ['y', 'yes']:\n",
    "    print(True)\n",
    "else:\n",
    "    print(False)\n"
   ]
  },
  {
   "cell_type": "code",
   "execution_count": null,
   "metadata": {},
   "outputs": [],
   "source": [
    "#21\n",
    "string_1 = input(\"Введите первую строку: \")\n",
    "string_2 = input(\"Введите вторую строку: \")\n",
    "\n",
    "line = string_1 + \"\\t\" + string_2\n",
    "print(line)"
   ]
  },
  {
   "cell_type": "code",
   "execution_count": 49,
   "metadata": {},
   "outputs": [
    {
     "name": "stdout",
     "output_type": "stream",
     "text": [
      "b'\\xe2\\x99\\x80'\n"
     ]
    }
   ],
   "source": [
    "#22\n",
    "line = input(\"Введите строку: \")\n",
    "byte_representation = line.encode('utf-8')\n",
    "print(byte_representation)"
   ]
  },
  {
   "cell_type": "code",
   "execution_count": null,
   "metadata": {},
   "outputs": [],
   "source": [
    "#23\n",
    "X = input(\"Введите название директории X: \")\n",
    "Y = input(\"Введите название директории Y: \")\n",
    "Z = input(\"Введите название директории Z: \")\n",
    "\n",
    "path = f'\"{X}/{Y}/{Z}\"'\n",
    "print(path)"
   ]
  },
  {
   "cell_type": "code",
   "execution_count": null,
   "metadata": {},
   "outputs": [],
   "source": [
    "#24\n",
    "line = input(\"Введите строку: \")\n",
    "\n",
    "# Убираем пробелы и приводим к одному регистру\n",
    "normalized_line = line.replace(\" \", \"\").lower()\n",
    "\n",
    "# Проверяем, является ли строка палиндромом\n",
    "is_palindrome = normalized_line == normalized_line[::-1]\n",
    "print(is_palindrome)\n"
   ]
  },
  {
   "cell_type": "code",
   "execution_count": null,
   "metadata": {},
   "outputs": [],
   "source": [
    "#25\n",
    "def check_passport_number(passport_number):\n",
    "    if len(passport_number) == 6 and passport_number.isdigit():\n",
    "        if passport_number.startswith(('75', '76')):\n",
    "            return \"new\"\n",
    "        else:\n",
    "            return \"old\"\n",
    "    else:\n",
    "        return \"wrong number\"\n",
    "\n",
    "# Получаем номер паспорта от пользователя\n",
    "passport_number = input(\"Введите номер паспорта: \")\n",
    "result = check_passport_number(passport_number)\n",
    "print(result)\n"
   ]
  },
  {
   "cell_type": "code",
   "execution_count": null,
   "metadata": {},
   "outputs": [],
   "source": [
    "#26\n",
    "word = input(\"Введите слово: \")\n",
    "\n",
    "if word.endswith(('ая', 'яя', 'ий', 'ый', 'ые', 'ие')):\n",
    "    print(\"возможно, прилагательное\")\n",
    "else:\n",
    "    print(\"неизвестно\")"
   ]
  },
  {
   "cell_type": "code",
   "execution_count": 50,
   "metadata": {},
   "outputs": [
    {
     "name": "stdout",
     "output_type": "stream",
     "text": [
      "A.B.\n"
     ]
    }
   ],
   "source": [
    "#27\n",
    "# Получаем ввод от пользователя\n",
    "full_name = input(\"Введите имя и фамилию через пробел: \")\n",
    "\n",
    "# Разделяем ввод на имя и фамилию\n",
    "name_parts = full_name.split()\n",
    "\n",
    "# Проверяем, что введено именно имя и фамилия\n",
    "if len(name_parts) == 2:\n",
    "    first_name = name_parts[0]\n",
    "    last_name = name_parts[1]\n",
    "    \n",
    "    # Формируем инициалы\n",
    "    initials = f\"{first_name[0].upper()}.{last_name[0].upper()}.\"\n",
    "    \n",
    "    # Выводим инициалы\n",
    "    print(initials)\n",
    "else:\n",
    "    print(\"Пожалуйста, введите имя и фамилию.\")"
   ]
  },
  {
   "cell_type": "code",
   "execution_count": null,
   "metadata": {},
   "outputs": [],
   "source": [
    "#28\n",
    "# Получаем ввод от пользователя\n",
    "input_string = input(\"Введите строку: \")\n",
    "\n",
    "# Проверяем длину строки\n",
    "if len(input_string) > 2:\n",
    "    # Удаляем первый и последний символы\n",
    "    modified_string = input_string[1:-1]\n",
    "    # Выводим результат\n",
    "    print(modified_string)\n",
    "else:\n",
    "    # Если строка состоит из двух или менее символов, выводим ее без изменений\n",
    "    print(input_string)"
   ]
  },
  {
   "cell_type": "code",
   "execution_count": null,
   "metadata": {},
   "outputs": [],
   "source": [
    "#29\n",
    "# Получаем входные данные\n",
    "salary = int(input(\"Введите сумму заработка (целое число): \"))\n",
    "bonus = input(\"Положен ли бонус? (да/нет): \").strip().lower()\n",
    "\n",
    "# Проверяем значение bonus и выводим соответствующий результат\n",
    "if bonus == \"да\":\n",
    "    print(f\"{salary * 2} ₽\")\n",
    "elif bonus == \"нет\":\n",
    "    print(f\"{salary} ₽\")\n",
    "else:\n",
    "    print(\"расчет невозможен\")"
   ]
  },
  {
   "cell_type": "code",
   "execution_count": 54,
   "metadata": {},
   "outputs": [
    {
     "name": "stdout",
     "output_type": "stream",
     "text": [
      "For asd: Sir/Madam 165, regarding your application: 9das2d9a2sd\n"
     ]
    }
   ],
   "source": [
    "#30\n",
    "# Шаблоны сообщений\n",
    "template1 = \"For {namr}: Hello, {id}. Welcome to our nice service!\"\n",
    "template2 = \"For {name}: Sir/Madam {id}, regarding your application: {message}\"\n",
    "\n",
    "# Получаем входные данные\n",
    "event = input(\"Введите событие (GREETING, NOTIFY, DENIAL): \").strip()\n",
    "user_info = input(\"Введите имя и ID через пробел: \").strip()\n",
    "\n",
    "# Проверяем на корректность события\n",
    "if event not in [\"GREETING\", \"NOTIFY\", \"DENIAL\"]:\n",
    "    print(\"wrong event\")\n",
    "    exit()\n",
    "\n",
    "# Получаем имя и ID пользователя\n",
    "name, user_id = user_info.split()\n",
    "\n",
    "# Формируем сообщение в зависимости от события\n",
    "if event == \"GREETING\":\n",
    "    message = template1.format(name=name, id=user_id)\n",
    "elif event in [\"NOTIFY\", \"DENIAL\"]:\n",
    "    message_content = input(\"Введите сообщение: \").strip()\n",
    "    message = template2.format(name=name, id=user_id, message=message_content)\n",
    "\n",
    "# Обрезаем сообщение, если оно превышает 256 символов\n",
    "if len(message) > 256:\n",
    "    message = message[:253] + \"...\"\n",
    "\n",
    "# Выводим итоговое сообщение\n",
    "print(message)\n"
   ]
  },
  {
   "cell_type": "code",
   "execution_count": null,
   "metadata": {},
   "outputs": [],
   "source": [
    "#31\n",
    "# Вводим имя менеджера\n",
    "manager_name = input(\"Введите ваше имя: \").strip().lower()\n",
    "\n",
    "# Вводим текст письма\n",
    "letter = input(\"Введите текст письма: \")\n",
    "\n",
    "# Приводим текст к нижнему регистру и считаем вхождения\n",
    "count = letter.lower().count(manager_name)\n",
    "\n",
    "# Выводим количество вхождений\n",
    "print(f\"Количество вхождений имени '{manager_name}': {count}\")\n"
   ]
  },
  {
   "cell_type": "code",
   "execution_count": 55,
   "metadata": {},
   "outputs": [
    {
     "name": "stdout",
     "output_type": "stream",
     "text": [
      "Количество предложений: 8\n"
     ]
    }
   ],
   "source": [
    "#31(2)\n",
    "# Исходный текст\n",
    "text = \"\"\"Мой дом стоит на пригорке. Он невелик: всего три комнаты, веранда, чердак и подвал. Крыша некрашеная. \n",
    "Стены красивого светло-бежевого цвета, а двери и наличники белые. Вокруг дома садовый участок. В моей комнате \n",
    "стоит компьютер. Еще у меня на полу лежит огромный ковер с изображением города. Ребята со всей округи играют \n",
    "у нас в машинки.\"\"\"\n",
    "\n",
    "# Разделяем текст на предложения\n",
    "sentences = text.split('.')\n",
    "\n",
    "# Удаляем пустые строки и лишние пробелы\n",
    "sentences = [s.strip() for s in sentences if s.strip()]\n",
    "\n",
    "# Считаем количество предложений\n",
    "count = len(sentences)\n",
    "\n",
    "# Выводим результат\n",
    "if count <= 1:\n",
    "    print(\"слишком короткий текст\")\n",
    "else:\n",
    "    print(f\"Количество предложений: {count}\")\n"
   ]
  },
  {
   "cell_type": "code",
   "execution_count": null,
   "metadata": {},
   "outputs": [],
   "source": [
    "#32\n",
    "# Ввод данных\n",
    "shark_distance = float(input(\"Введите расстояние до акулы (в метрах): \"))\n",
    "shark_speed = float(input(\"Введите скорость акулы (в м/с): \"))\n",
    "pontoon_distance = float(input(\"Введите расстояние до острова (в метрах): \"))\n",
    "your_speed = float(input(\"Введите вашу скорость (в м/с): \"))\n",
    "dolphin = input(\"Есть ли дельфин? (true/false): \").strip().lower() == \"true\"\n",
    "\n",
    "# Если есть дельфин, уменьшаем скорость акулы вдвое\n",
    "if dolphin:\n",
    "    shark_speed /= 2\n",
    "\n",
    "# Время, необходимое акула для достижения берега\n",
    "shark_time = shark_distance / shark_speed\n",
    "\n",
    "# Время, необходимое вам для достижения берега\n",
    "your_time = pontoon_distance / your_speed\n",
    "\n",
    "# Проверка, кто быстрее\n",
    "if your_time < shark_time:\n",
    "    print(\"Спасен от акулы!\")\n",
    "else:\n",
    "    print(\"Акула съела пловца!\")\n"
   ]
  }
 ],
 "metadata": {
  "kernelspec": {
   "display_name": "Python 3",
   "language": "python",
   "name": "python3"
  },
  "language_info": {
   "codemirror_mode": {
    "name": "ipython",
    "version": 3
   },
   "file_extension": ".py",
   "mimetype": "text/x-python",
   "name": "python",
   "nbconvert_exporter": "python",
   "pygments_lexer": "ipython3",
   "version": "3.10.1"
  }
 },
 "nbformat": 4,
 "nbformat_minor": 2
}
